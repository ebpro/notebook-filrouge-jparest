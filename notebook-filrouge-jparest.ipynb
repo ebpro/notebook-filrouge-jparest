{
 "cells": [
  {
   "cell_type": "markdown",
   "id": "ea2eb546-9bd6-48cd-add3-51484da9599b",
   "metadata": {},
   "source": [
    "---\n",
    "title: \"TP Fil rouge JPA REST\"\n",
    "---"
   ]
  },
  {
   "cell_type": "markdown",
   "id": "00ea9192-52b3-456b-8bb9-34fdd949e4f1",
   "metadata": {},
   "source": [
    "## Objectif\n",
    "\n",
    "L’objectif de ce TP est réviser les concepts de base du langage Java que vous devez maîtriser. Il permettra aussi une révision de la mise en pratique de Git et de Maven. Appuyez vous sur https://bruno.univ-tln.fr/notebooks/. \n",
    "\n",
    "Vous lirez le sujet en entier. Vous mettrez en place un projet Github à partir lien fournit en cours pour suivre l’avancement de vos révisions (mise en place d’une roadmap, de tickets pour chaque question, suivi des bug et livraisons).\n",
    "\n",
    "Pour tous les exercices, vous devez écrire la javadoc minimale, des tests unitaires utiles et vérifier votre code avec sonarlint au fur et à mesure de l’avancement.\n",
    "\n",
    "La compilation, la génération de la documentation et des artefacts (fichier jar et executables) seront réalisés avec Maven. \n",
    "\n",
    "## Au fur et à mesure du développement\n",
    "\n",
    "### Livraison du résultat\n",
    "\n",
    "Fabriquer automatiquement avec maven un fichier jar exécutable qui contient toutes les classes nécessaires. Exécuter l’application à partir de ce fichier.\n",
    "  \n",
    "### Gestion des log\n",
    "\n",
    "Modifier vos classes pour que les logs sont gérés proprement à l’aide du Logger du jdk ou mieux de Sl4J.\n",
    "\n",
    "## Test de vos classes avec JUnit\n",
    "\n",
    "Mettez en place des tests unitaires au fur et à mesure du développement en utilisant Junit\n",
    "\n",
    "L’exécution des tests sera faite par maven.\n",
    "\n",
    "## Classes, Instances et Héritage\n",
    "\n",
    "## Hiérarchie\n",
    "\n",
    "Mettez en place les classes Java nécessaire pour représenter un système de gestion de commandes en vous inspirant du diagramme de classe UML ci-dessous :"
   ]
  },
  {
   "cell_type": "code",
   "execution_count": 1,
   "id": "0a9992d7-fc21-4cb8-b604-a02ec2defa79",
   "metadata": {},
   "outputs": [
    {
     "data": {
      "image/svg+xml": [
       "<?xml version=\"1.0\" encoding=\"us-ascii\" standalone=\"no\"?><svg xmlns=\"http://www.w3.org/2000/svg\" xmlns:xlink=\"http://www.w3.org/1999/xlink\" contentStyleType=\"text/css\" height=\"390px\" preserveAspectRatio=\"none\" style=\"width:510px;height:390px;background:#FFFFFF;\" version=\"1.1\" viewBox=\"0 0 510 390\" width=\"510px\" zoomAndPan=\"magnify\"><defs/><g><!--class Commande--><g id=\"elem_Commande\"><rect codeLine=\"1\" fill=\"#F1F1F1\" height=\"79.7188\" id=\"Commande\" rx=\"2.5\" ry=\"2.5\" style=\"stroke:#181818;stroke-width:0.5;\" width=\"154\" x=\"7\" y=\"179\"/><ellipse cx=\"48.1\" cy=\"195\" fill=\"#ADD1B2\" rx=\"11\" ry=\"11\" style=\"stroke:#181818;stroke-width:1.0;\"/><path d=\"M46.2563,194.8438 Q46.2563,196.7188 46.8344,197.7344 Q47.4125,198.7344 48.5688,198.7344 Q48.9438,198.7344 49.2406,198.5938 Q49.5531,198.4375 49.8031,198.1719 Q50.0531,197.9063 50.2406,197.5313 Q50.4281,197.1563 50.5688,196.7188 L52.8344,197.1406 Q52.5688,197.9688 52.1781,198.625 Q51.8031,199.2656 51.2719,199.7188 Q50.7406,200.1719 50.0688,200.4219 Q49.3969,200.6719 48.5531,200.6719 Q47.2875,200.6719 46.3813,200.25 Q45.475,199.8281 44.8969,199.0625 Q44.3188,198.2969 44.0375,197.2344 Q43.7719,196.1563 43.7719,194.8438 Q43.7719,193.4531 44.0531,192.3906 Q44.3344,191.3281 44.9125,190.6094 Q45.5063,189.875 46.3813,189.5 Q47.2719,189.125 48.475,189.125 Q49.35,189.125 50.0063,189.375 Q50.6781,189.6094 51.1781,190.0469 Q51.6781,190.4688 52.0219,191.0625 Q52.3813,191.6563 52.6,192.3594 L50.3344,192.9063 Q50.225,192.5 50.0531,192.1719 Q49.8969,191.8281 49.6625,191.5781 Q49.4281,191.3281 49.1313,191.1875 Q48.85,191.0469 48.5063,191.0469 Q47.3813,191.0469 46.8188,192.0156 Q46.2563,192.9688 46.2563,194.8438 Z \" fill=\"#000000\"/><text fill=\"#000000\" font-family=\"sans-serif\" font-size=\"14\" lengthAdjust=\"spacing\" textLength=\"64\" x=\"67.9\" y=\"198.7256\">Commande</text><line style=\"stroke:#181818;stroke-width:0.5;\" x1=\"8\" x2=\"160\" y1=\"211\" y2=\"211\"/><rect fill=\"none\" height=\"6\" style=\"stroke:#C82930;stroke-width:1.0;\" width=\"6\" x=\"15\" y=\"221.4297\"/><text fill=\"#000000\" font-family=\"sans-serif\" font-size=\"14\" lengthAdjust=\"spacing\" textLength=\"128\" x=\"27\" y=\"226.6553\">numero : Integer</text><rect fill=\"none\" height=\"6\" style=\"stroke:#C82930;stroke-width:1.0;\" width=\"6\" x=\"15\" y=\"237.2891\"/><text fill=\"#000000\" font-family=\"sans-serif\" font-size=\"14\" lengthAdjust=\"spacing\" textLength=\"88\" x=\"27\" y=\"242.5146\">date : Date</text><line style=\"stroke:#181818;stroke-width:0.5;\" x1=\"8\" x2=\"160\" y1=\"250.7188\" y2=\"250.7188\"/></g><!--class Produit--><g id=\"elem_Produit\"><rect codeLine=\"5\" fill=\"#F1F1F1\" height=\"79.7188\" id=\"Produit\" rx=\"2.5\" ry=\"2.5\" style=\"stroke:#181818;stroke-width:0.5;\" width=\"202\" x=\"301\" y=\"179\"/><ellipse cx=\"369.75\" cy=\"195\" fill=\"#ADD1B2\" rx=\"11\" ry=\"11\" style=\"stroke:#181818;stroke-width:1.0;\"/><path d=\"M367.9063,194.8438 Q367.9063,196.7188 368.4844,197.7344 Q369.0625,198.7344 370.2188,198.7344 Q370.5938,198.7344 370.8906,198.5938 Q371.2031,198.4375 371.4531,198.1719 Q371.7031,197.9063 371.8906,197.5313 Q372.0781,197.1563 372.2188,196.7188 L374.4844,197.1406 Q374.2188,197.9688 373.8281,198.625 Q373.4531,199.2656 372.9219,199.7188 Q372.3906,200.1719 371.7188,200.4219 Q371.0469,200.6719 370.2031,200.6719 Q368.9375,200.6719 368.0313,200.25 Q367.125,199.8281 366.5469,199.0625 Q365.9688,198.2969 365.6875,197.2344 Q365.4219,196.1563 365.4219,194.8438 Q365.4219,193.4531 365.7031,192.3906 Q365.9844,191.3281 366.5625,190.6094 Q367.1563,189.875 368.0313,189.5 Q368.9219,189.125 370.125,189.125 Q371,189.125 371.6563,189.375 Q372.3281,189.6094 372.8281,190.0469 Q373.3281,190.4688 373.6719,191.0625 Q374.0313,191.6563 374.25,192.3594 L371.9844,192.9063 Q371.875,192.5 371.7031,192.1719 Q371.5469,191.8281 371.3125,191.5781 Q371.0781,191.3281 370.7813,191.1875 Q370.5,191.0469 370.1563,191.0469 Q369.0313,191.0469 368.4688,192.0156 Q367.9063,192.9688 367.9063,194.8438 Z \" fill=\"#000000\"/><text fill=\"#000000\" font-family=\"sans-serif\" font-size=\"14\" lengthAdjust=\"spacing\" textLength=\"56\" x=\"390.25\" y=\"198.7256\">Produit</text><line style=\"stroke:#181818;stroke-width:0.5;\" x1=\"302\" x2=\"502\" y1=\"211\" y2=\"211\"/><rect fill=\"none\" height=\"6\" style=\"stroke:#C82930;stroke-width:1.0;\" width=\"6\" x=\"309\" y=\"221.4297\"/><text fill=\"#000000\" font-family=\"sans-serif\" font-size=\"14\" lengthAdjust=\"spacing\" textLength=\"112\" x=\"321\" y=\"226.6553\">code : Integer</text><rect fill=\"none\" height=\"6\" style=\"stroke:#C82930;stroke-width:1.0;\" width=\"6\" x=\"309\" y=\"237.2891\"/><text fill=\"#000000\" font-family=\"sans-serif\" font-size=\"14\" lengthAdjust=\"spacing\" textLength=\"176\" x=\"321\" y=\"242.5146\">prixUnitaire : Integer</text><line style=\"stroke:#181818;stroke-width:0.5;\" x1=\"302\" x2=\"502\" y1=\"250.7188\" y2=\"250.7188\"/></g><!--class LigneDeCommande--><g id=\"elem_LigneDeCommande\"><rect codeLine=\"9\" fill=\"#F1F1F1\" height=\"63.8594\" id=\"LigneDeCommande\" rx=\"2.5\" ry=\"2.5\" style=\"stroke:#181818;stroke-width:0.5;\" width=\"170\" x=\"179\" y=\"320\"/><ellipse cx=\"202.1\" cy=\"336\" fill=\"#ADD1B2\" rx=\"11\" ry=\"11\" style=\"stroke:#181818;stroke-width:1.0;\"/><path d=\"M200.2563,335.8438 Q200.2563,337.7188 200.8344,338.7344 Q201.4125,339.7344 202.5688,339.7344 Q202.9438,339.7344 203.2406,339.5938 Q203.5531,339.4375 203.8031,339.1719 Q204.0531,338.9063 204.2406,338.5313 Q204.4281,338.1563 204.5688,337.7188 L206.8344,338.1406 Q206.5688,338.9688 206.1781,339.625 Q205.8031,340.2656 205.2719,340.7188 Q204.7406,341.1719 204.0688,341.4219 Q203.3969,341.6719 202.5531,341.6719 Q201.2875,341.6719 200.3813,341.25 Q199.475,340.8281 198.8969,340.0625 Q198.3188,339.2969 198.0375,338.2344 Q197.7719,337.1563 197.7719,335.8438 Q197.7719,334.4531 198.0531,333.3906 Q198.3344,332.3281 198.9125,331.6094 Q199.5063,330.875 200.3813,330.5 Q201.2719,330.125 202.475,330.125 Q203.35,330.125 204.0063,330.375 Q204.6781,330.6094 205.1781,331.0469 Q205.6781,331.4688 206.0219,332.0625 Q206.3813,332.6563 206.6,333.3594 L204.3344,333.9063 Q204.225,333.5 204.0531,333.1719 Q203.8969,332.8281 203.6625,332.5781 Q203.4281,332.3281 203.1313,332.1875 Q202.85,332.0469 202.5063,332.0469 Q201.3813,332.0469 200.8188,333.0156 Q200.2563,333.9688 200.2563,335.8438 Z \" fill=\"#000000\"/><text fill=\"#000000\" font-family=\"sans-serif\" font-size=\"14\" lengthAdjust=\"spacing\" textLength=\"120\" x=\"217.9\" y=\"339.7256\">LigneDeCommande</text><line style=\"stroke:#181818;stroke-width:0.5;\" x1=\"180\" x2=\"348\" y1=\"352\" y2=\"352\"/><rect fill=\"none\" height=\"6\" style=\"stroke:#C82930;stroke-width:1.0;\" width=\"6\" x=\"187\" y=\"362.4297\"/><text fill=\"#000000\" font-family=\"sans-serif\" font-size=\"14\" lengthAdjust=\"spacing\" textLength=\"144\" x=\"199\" y=\"367.6553\">quantit&#233; : Integer</text><line style=\"stroke:#181818;stroke-width:0.5;\" x1=\"180\" x2=\"348\" y1=\"375.8594\" y2=\"375.8594\"/></g><!--class Client--><g id=\"elem_Client\"><rect codeLine=\"13\" fill=\"#F1F1F1\" height=\"95.5781\" id=\"Client\" rx=\"2.5\" ry=\"2.5\" style=\"stroke:#181818;stroke-width:0.5;\" width=\"146\" x=\"11\" y=\"7\"/><ellipse cx=\"55.75\" cy=\"23\" fill=\"#ADD1B2\" rx=\"11\" ry=\"11\" style=\"stroke:#181818;stroke-width:1.0;\"/><path d=\"M53.9063,22.8438 Q53.9063,24.7188 54.4844,25.7344 Q55.0625,26.7344 56.2188,26.7344 Q56.5938,26.7344 56.8906,26.5938 Q57.2031,26.4375 57.4531,26.1719 Q57.7031,25.9063 57.8906,25.5313 Q58.0781,25.1563 58.2188,24.7188 L60.4844,25.1406 Q60.2188,25.9688 59.8281,26.625 Q59.4531,27.2656 58.9219,27.7188 Q58.3906,28.1719 57.7188,28.4219 Q57.0469,28.6719 56.2031,28.6719 Q54.9375,28.6719 54.0313,28.25 Q53.125,27.8281 52.5469,27.0625 Q51.9688,26.2969 51.6875,25.2344 Q51.4219,24.1563 51.4219,22.8438 Q51.4219,21.4531 51.7031,20.3906 Q51.9844,19.3281 52.5625,18.6094 Q53.1563,17.875 54.0313,17.5 Q54.9219,17.125 56.125,17.125 Q57,17.125 57.6563,17.375 Q58.3281,17.6094 58.8281,18.0469 Q59.3281,18.4688 59.6719,19.0625 Q60.0313,19.6563 60.25,20.3594 L57.9844,20.9063 Q57.875,20.5 57.7031,20.1719 Q57.5469,19.8281 57.3125,19.5781 Q57.0781,19.3281 56.7813,19.1875 Q56.5,19.0469 56.1563,19.0469 Q55.0313,19.0469 54.4688,20.0156 Q53.9063,20.9688 53.9063,22.8438 Z \" fill=\"#000000\"/><text fill=\"#000000\" font-family=\"sans-serif\" font-size=\"14\" lengthAdjust=\"spacing\" textLength=\"48\" x=\"76.25\" y=\"26.7256\">Client</text><line style=\"stroke:#181818;stroke-width:0.5;\" x1=\"12\" x2=\"156\" y1=\"39\" y2=\"39\"/><rect fill=\"none\" height=\"6\" style=\"stroke:#C82930;stroke-width:1.0;\" width=\"6\" x=\"19\" y=\"49.4297\"/><text fill=\"#000000\" font-family=\"sans-serif\" font-size=\"14\" lengthAdjust=\"spacing\" textLength=\"112\" x=\"31\" y=\"54.6553\">email : String</text><rect fill=\"none\" height=\"6\" style=\"stroke:#C82930;stroke-width:1.0;\" width=\"6\" x=\"19\" y=\"65.2891\"/><text fill=\"#000000\" font-family=\"sans-serif\" font-size=\"14\" lengthAdjust=\"spacing\" textLength=\"96\" x=\"31\" y=\"70.5146\">nom : String</text><rect fill=\"none\" height=\"6\" style=\"stroke:#C82930;stroke-width:1.0;\" width=\"6\" x=\"19\" y=\"81.1484\"/><text fill=\"#000000\" font-family=\"sans-serif\" font-size=\"14\" lengthAdjust=\"spacing\" textLength=\"120\" x=\"31\" y=\"86.374\">prenom : String</text><line style=\"stroke:#181818;stroke-width:0.5;\" x1=\"12\" x2=\"156\" y1=\"94.5781\" y2=\"94.5781\"/></g><ellipse cx=\"264\" cy=\"219\" fill=\"#181818\" rx=\"2\" ry=\"2\" style=\"stroke:#181818;stroke-width:1.0;\"/><!--link Commande to apoint7--><g id=\"link_Commande_apoint7\"><path d=\"M161.12,219 C203.87,219 250.57,219 261.58,219 \" fill=\"none\" id=\"Commande-apoint7\" style=\"stroke:#181818;stroke-width:1.0;\"/><text fill=\"#000000\" font-family=\"sans-serif\" font-size=\"13\" lengthAdjust=\"spacing\" textLength=\"64\" x=\"179.5\" y=\"211.8228\">comporte</text><text fill=\"#000000\" font-family=\"sans-serif\" font-size=\"13\" lengthAdjust=\"spacing\" textLength=\"8\" x=\"169.1053\" y=\"215.1833\">*</text></g><!--link apoint7 to Produit--><g id=\"link_apoint7_Produit\"><path d=\"M266.16,219 C277.74,219 283.33,219 294.91,219 \" fill=\"none\" id=\"apoint7-to-Produit\" style=\"stroke:#181818;stroke-width:1.0;\"/><polygon fill=\"#181818\" points=\"300.91,219,291.91,215,295.91,219,291.91,223,300.91,219\" style=\"stroke:#181818;stroke-width:1.0;\"/><text fill=\"#000000\" font-family=\"sans-serif\" font-size=\"13\" lengthAdjust=\"spacing\" textLength=\"32\" x=\"273.76\" y=\"208.49\">1..*</text></g><!--link apoint7 to LigneDeCommande--><g id=\"link_apoint7_LigneDeCommande\"><path d=\"M264,221.47 C264,231 264,284.69 264,319.89 \" fill=\"none\" id=\"apoint7-LigneDeCommande\" style=\"stroke:#181818;stroke-width:1.0;stroke-dasharray:7.0,7.0;\"/></g><!--link Client to Commande--><g id=\"link_Client_Commande\"><path codeLine=\"21\" d=\"M84,103.29 C84,127.29 84,156.1 84,178.84 \" fill=\"none\" id=\"Client-Commande\" style=\"stroke:#181818;stroke-width:1.0;\"/><text fill=\"#000000\" font-family=\"sans-serif\" font-size=\"13\" lengthAdjust=\"spacing\" textLength=\"40\" x=\"85\" y=\"144.8228\">passe</text><text fill=\"#000000\" font-family=\"sans-serif\" font-size=\"13\" lengthAdjust=\"spacing\" textLength=\"8\" x=\"75.4875\" y=\"121.2704\">1</text><text fill=\"#000000\" font-family=\"sans-serif\" font-size=\"13\" lengthAdjust=\"spacing\" textLength=\"8\" x=\"75.2625\" y=\"167.0605\">*</text></g><!--SRC=[PKzB2i8m4Dtt54DMAhRGRHTkwaPm8OW72ErG1ff9J5CGn0Dv3Y_cM9fAssmcl7c_gLhTTL1QOpJN2Cy4VYy5xWrw2mMSE623FkAr3YZeKKO2hwGQv1Tlwvx2NrtP6jTQv-bnOmgQ_6mRRSxKC1vnNURUQmuKFk-vQfILBI77y1JGQ6g5U0sUk1b1jcO9EOzpL0odQBLJa1v0vLacltYVa2jhdFLo_2Pozt6zXInRtf2CvLGkVkbWEsKKuAG-VW40]--></g></svg>"
      ],
      "text/plain": [
       "<?xml version=\"1.0\" encoding=\"us-ascii\" standalone=\"no\"?><svg xmlns=\"http://www.w3.org/2000/svg\" xmlns:xlink=\"http://www.w3.org/1999/xlink\" contentStyleType=\"text/css\" height=\"390px\" preserveAspectRatio=\"none\" style=\"width:510px;height:390px;background:#FFFFFF;\" version=\"1.1\" viewBox=\"0 0 510 390\" width=\"510px\" zoomAndPan=\"magnify\"><defs/><g><!--class Commande--><g id=\"elem_Commande\"><rect codeLine=\"1\" fill=\"#F1F1F1\" height=\"79.7188\" id=\"Commande\" rx=\"2.5\" ry=\"2.5\" style=\"stroke:#181818;stroke-width:0.5;\" width=\"154\" x=\"7\" y=\"179\"/><ellipse cx=\"48.1\" cy=\"195\" fill=\"#ADD1B2\" rx=\"11\" ry=\"11\" style=\"stroke:#181818;stroke-width:1.0;\"/><path d=\"M46.2563,194.8438 Q46.2563,196.7188 46.8344,197.7344 Q47.4125,198.7344 48.5688,198.7344 Q48.9438,198.7344 49.2406,198.5938 Q49.5531,198.4375 49.8031,198.1719 Q50.0531,197.9063 50.2406,197.5313 Q50.4281,197.1563 50.5688,196.7188 L52.8344,197.1406 Q52.5688,197.9688 52.1781,198.625 Q51.8031,199.2656 51.2719,199.7188 Q50.7406,200.1719 50.0688,200.4219 Q49.3969,200.6719 48.5531,200.6719 Q47.2875,200.6719 46.3813,200.25 Q45.475,199.8281 44.8969,199.0625 Q44.3188,198.2969 44.0375,197.2344 Q43.7719,196.1563 43.7719,194.8438 Q43.7719,193.4531 44.0531,192.3906 Q44.3344,191.3281 44.9125,190.6094 Q45.5063,189.875 46.3813,189.5 Q47.2719,189.125 48.475,189.125 Q49.35,189.125 50.0063,189.375 Q50.6781,189.6094 51.1781,190.0469 Q51.6781,190.4688 52.0219,191.0625 Q52.3813,191.6563 52.6,192.3594 L50.3344,192.9063 Q50.225,192.5 50.0531,192.1719 Q49.8969,191.8281 49.6625,191.5781 Q49.4281,191.3281 49.1313,191.1875 Q48.85,191.0469 48.5063,191.0469 Q47.3813,191.0469 46.8188,192.0156 Q46.2563,192.9688 46.2563,194.8438 Z \" fill=\"#000000\"/><text fill=\"#000000\" font-family=\"sans-serif\" font-size=\"14\" lengthAdjust=\"spacing\" textLength=\"64\" x=\"67.9\" y=\"198.7256\">Commande</text><line style=\"stroke:#181818;stroke-width:0.5;\" x1=\"8\" x2=\"160\" y1=\"211\" y2=\"211\"/><rect fill=\"none\" height=\"6\" style=\"stroke:#C82930;stroke-width:1.0;\" width=\"6\" x=\"15\" y=\"221.4297\"/><text fill=\"#000000\" font-family=\"sans-serif\" font-size=\"14\" lengthAdjust=\"spacing\" textLength=\"128\" x=\"27\" y=\"226.6553\">numero : Integer</text><rect fill=\"none\" height=\"6\" style=\"stroke:#C82930;stroke-width:1.0;\" width=\"6\" x=\"15\" y=\"237.2891\"/><text fill=\"#000000\" font-family=\"sans-serif\" font-size=\"14\" lengthAdjust=\"spacing\" textLength=\"88\" x=\"27\" y=\"242.5146\">date : Date</text><line style=\"stroke:#181818;stroke-width:0.5;\" x1=\"8\" x2=\"160\" y1=\"250.7188\" y2=\"250.7188\"/></g><!--class Produit--><g id=\"elem_Produit\"><rect codeLine=\"5\" fill=\"#F1F1F1\" height=\"79.7188\" id=\"Produit\" rx=\"2.5\" ry=\"2.5\" style=\"stroke:#181818;stroke-width:0.5;\" width=\"202\" x=\"301\" y=\"179\"/><ellipse cx=\"369.75\" cy=\"195\" fill=\"#ADD1B2\" rx=\"11\" ry=\"11\" style=\"stroke:#181818;stroke-width:1.0;\"/><path d=\"M367.9063,194.8438 Q367.9063,196.7188 368.4844,197.7344 Q369.0625,198.7344 370.2188,198.7344 Q370.5938,198.7344 370.8906,198.5938 Q371.2031,198.4375 371.4531,198.1719 Q371.7031,197.9063 371.8906,197.5313 Q372.0781,197.1563 372.2188,196.7188 L374.4844,197.1406 Q374.2188,197.9688 373.8281,198.625 Q373.4531,199.2656 372.9219,199.7188 Q372.3906,200.1719 371.7188,200.4219 Q371.0469,200.6719 370.2031,200.6719 Q368.9375,200.6719 368.0313,200.25 Q367.125,199.8281 366.5469,199.0625 Q365.9688,198.2969 365.6875,197.2344 Q365.4219,196.1563 365.4219,194.8438 Q365.4219,193.4531 365.7031,192.3906 Q365.9844,191.3281 366.5625,190.6094 Q367.1563,189.875 368.0313,189.5 Q368.9219,189.125 370.125,189.125 Q371,189.125 371.6563,189.375 Q372.3281,189.6094 372.8281,190.0469 Q373.3281,190.4688 373.6719,191.0625 Q374.0313,191.6563 374.25,192.3594 L371.9844,192.9063 Q371.875,192.5 371.7031,192.1719 Q371.5469,191.8281 371.3125,191.5781 Q371.0781,191.3281 370.7813,191.1875 Q370.5,191.0469 370.1563,191.0469 Q369.0313,191.0469 368.4688,192.0156 Q367.9063,192.9688 367.9063,194.8438 Z \" fill=\"#000000\"/><text fill=\"#000000\" font-family=\"sans-serif\" font-size=\"14\" lengthAdjust=\"spacing\" textLength=\"56\" x=\"390.25\" y=\"198.7256\">Produit</text><line style=\"stroke:#181818;stroke-width:0.5;\" x1=\"302\" x2=\"502\" y1=\"211\" y2=\"211\"/><rect fill=\"none\" height=\"6\" style=\"stroke:#C82930;stroke-width:1.0;\" width=\"6\" x=\"309\" y=\"221.4297\"/><text fill=\"#000000\" font-family=\"sans-serif\" font-size=\"14\" lengthAdjust=\"spacing\" textLength=\"112\" x=\"321\" y=\"226.6553\">code : Integer</text><rect fill=\"none\" height=\"6\" style=\"stroke:#C82930;stroke-width:1.0;\" width=\"6\" x=\"309\" y=\"237.2891\"/><text fill=\"#000000\" font-family=\"sans-serif\" font-size=\"14\" lengthAdjust=\"spacing\" textLength=\"176\" x=\"321\" y=\"242.5146\">prixUnitaire : Integer</text><line style=\"stroke:#181818;stroke-width:0.5;\" x1=\"302\" x2=\"502\" y1=\"250.7188\" y2=\"250.7188\"/></g><!--class LigneDeCommande--><g id=\"elem_LigneDeCommande\"><rect codeLine=\"9\" fill=\"#F1F1F1\" height=\"63.8594\" id=\"LigneDeCommande\" rx=\"2.5\" ry=\"2.5\" style=\"stroke:#181818;stroke-width:0.5;\" width=\"170\" x=\"179\" y=\"320\"/><ellipse cx=\"202.1\" cy=\"336\" fill=\"#ADD1B2\" rx=\"11\" ry=\"11\" style=\"stroke:#181818;stroke-width:1.0;\"/><path d=\"M200.2563,335.8438 Q200.2563,337.7188 200.8344,338.7344 Q201.4125,339.7344 202.5688,339.7344 Q202.9438,339.7344 203.2406,339.5938 Q203.5531,339.4375 203.8031,339.1719 Q204.0531,338.9063 204.2406,338.5313 Q204.4281,338.1563 204.5688,337.7188 L206.8344,338.1406 Q206.5688,338.9688 206.1781,339.625 Q205.8031,340.2656 205.2719,340.7188 Q204.7406,341.1719 204.0688,341.4219 Q203.3969,341.6719 202.5531,341.6719 Q201.2875,341.6719 200.3813,341.25 Q199.475,340.8281 198.8969,340.0625 Q198.3188,339.2969 198.0375,338.2344 Q197.7719,337.1563 197.7719,335.8438 Q197.7719,334.4531 198.0531,333.3906 Q198.3344,332.3281 198.9125,331.6094 Q199.5063,330.875 200.3813,330.5 Q201.2719,330.125 202.475,330.125 Q203.35,330.125 204.0063,330.375 Q204.6781,330.6094 205.1781,331.0469 Q205.6781,331.4688 206.0219,332.0625 Q206.3813,332.6563 206.6,333.3594 L204.3344,333.9063 Q204.225,333.5 204.0531,333.1719 Q203.8969,332.8281 203.6625,332.5781 Q203.4281,332.3281 203.1313,332.1875 Q202.85,332.0469 202.5063,332.0469 Q201.3813,332.0469 200.8188,333.0156 Q200.2563,333.9688 200.2563,335.8438 Z \" fill=\"#000000\"/><text fill=\"#000000\" font-family=\"sans-serif\" font-size=\"14\" lengthAdjust=\"spacing\" textLength=\"120\" x=\"217.9\" y=\"339.7256\">LigneDeCommande</text><line style=\"stroke:#181818;stroke-width:0.5;\" x1=\"180\" x2=\"348\" y1=\"352\" y2=\"352\"/><rect fill=\"none\" height=\"6\" style=\"stroke:#C82930;stroke-width:1.0;\" width=\"6\" x=\"187\" y=\"362.4297\"/><text fill=\"#000000\" font-family=\"sans-serif\" font-size=\"14\" lengthAdjust=\"spacing\" textLength=\"144\" x=\"199\" y=\"367.6553\">quantit&#233; : Integer</text><line style=\"stroke:#181818;stroke-width:0.5;\" x1=\"180\" x2=\"348\" y1=\"375.8594\" y2=\"375.8594\"/></g><!--class Client--><g id=\"elem_Client\"><rect codeLine=\"13\" fill=\"#F1F1F1\" height=\"95.5781\" id=\"Client\" rx=\"2.5\" ry=\"2.5\" style=\"stroke:#181818;stroke-width:0.5;\" width=\"146\" x=\"11\" y=\"7\"/><ellipse cx=\"55.75\" cy=\"23\" fill=\"#ADD1B2\" rx=\"11\" ry=\"11\" style=\"stroke:#181818;stroke-width:1.0;\"/><path d=\"M53.9063,22.8438 Q53.9063,24.7188 54.4844,25.7344 Q55.0625,26.7344 56.2188,26.7344 Q56.5938,26.7344 56.8906,26.5938 Q57.2031,26.4375 57.4531,26.1719 Q57.7031,25.9063 57.8906,25.5313 Q58.0781,25.1563 58.2188,24.7188 L60.4844,25.1406 Q60.2188,25.9688 59.8281,26.625 Q59.4531,27.2656 58.9219,27.7188 Q58.3906,28.1719 57.7188,28.4219 Q57.0469,28.6719 56.2031,28.6719 Q54.9375,28.6719 54.0313,28.25 Q53.125,27.8281 52.5469,27.0625 Q51.9688,26.2969 51.6875,25.2344 Q51.4219,24.1563 51.4219,22.8438 Q51.4219,21.4531 51.7031,20.3906 Q51.9844,19.3281 52.5625,18.6094 Q53.1563,17.875 54.0313,17.5 Q54.9219,17.125 56.125,17.125 Q57,17.125 57.6563,17.375 Q58.3281,17.6094 58.8281,18.0469 Q59.3281,18.4688 59.6719,19.0625 Q60.0313,19.6563 60.25,20.3594 L57.9844,20.9063 Q57.875,20.5 57.7031,20.1719 Q57.5469,19.8281 57.3125,19.5781 Q57.0781,19.3281 56.7813,19.1875 Q56.5,19.0469 56.1563,19.0469 Q55.0313,19.0469 54.4688,20.0156 Q53.9063,20.9688 53.9063,22.8438 Z \" fill=\"#000000\"/><text fill=\"#000000\" font-family=\"sans-serif\" font-size=\"14\" lengthAdjust=\"spacing\" textLength=\"48\" x=\"76.25\" y=\"26.7256\">Client</text><line style=\"stroke:#181818;stroke-width:0.5;\" x1=\"12\" x2=\"156\" y1=\"39\" y2=\"39\"/><rect fill=\"none\" height=\"6\" style=\"stroke:#C82930;stroke-width:1.0;\" width=\"6\" x=\"19\" y=\"49.4297\"/><text fill=\"#000000\" font-family=\"sans-serif\" font-size=\"14\" lengthAdjust=\"spacing\" textLength=\"112\" x=\"31\" y=\"54.6553\">email : String</text><rect fill=\"none\" height=\"6\" style=\"stroke:#C82930;stroke-width:1.0;\" width=\"6\" x=\"19\" y=\"65.2891\"/><text fill=\"#000000\" font-family=\"sans-serif\" font-size=\"14\" lengthAdjust=\"spacing\" textLength=\"96\" x=\"31\" y=\"70.5146\">nom : String</text><rect fill=\"none\" height=\"6\" style=\"stroke:#C82930;stroke-width:1.0;\" width=\"6\" x=\"19\" y=\"81.1484\"/><text fill=\"#000000\" font-family=\"sans-serif\" font-size=\"14\" lengthAdjust=\"spacing\" textLength=\"120\" x=\"31\" y=\"86.374\">prenom : String</text><line style=\"stroke:#181818;stroke-width:0.5;\" x1=\"12\" x2=\"156\" y1=\"94.5781\" y2=\"94.5781\"/></g><ellipse cx=\"264\" cy=\"219\" fill=\"#181818\" rx=\"2\" ry=\"2\" style=\"stroke:#181818;stroke-width:1.0;\"/><!--link Commande to apoint7--><g id=\"link_Commande_apoint7\"><path d=\"M161.12,219 C203.87,219 250.57,219 261.58,219 \" fill=\"none\" id=\"Commande-apoint7\" style=\"stroke:#181818;stroke-width:1.0;\"/><text fill=\"#000000\" font-family=\"sans-serif\" font-size=\"13\" lengthAdjust=\"spacing\" textLength=\"64\" x=\"179.5\" y=\"211.8228\">comporte</text><text fill=\"#000000\" font-family=\"sans-serif\" font-size=\"13\" lengthAdjust=\"spacing\" textLength=\"8\" x=\"169.1053\" y=\"215.1833\">*</text></g><!--link apoint7 to Produit--><g id=\"link_apoint7_Produit\"><path d=\"M266.16,219 C277.74,219 283.33,219 294.91,219 \" fill=\"none\" id=\"apoint7-to-Produit\" style=\"stroke:#181818;stroke-width:1.0;\"/><polygon fill=\"#181818\" points=\"300.91,219,291.91,215,295.91,219,291.91,223,300.91,219\" style=\"stroke:#181818;stroke-width:1.0;\"/><text fill=\"#000000\" font-family=\"sans-serif\" font-size=\"13\" lengthAdjust=\"spacing\" textLength=\"32\" x=\"273.76\" y=\"208.49\">1..*</text></g><!--link apoint7 to LigneDeCommande--><g id=\"link_apoint7_LigneDeCommande\"><path d=\"M264,221.47 C264,231 264,284.69 264,319.89 \" fill=\"none\" id=\"apoint7-LigneDeCommande\" style=\"stroke:#181818;stroke-width:1.0;stroke-dasharray:7.0,7.0;\"/></g><!--link Client to Commande--><g id=\"link_Client_Commande\"><path codeLine=\"21\" d=\"M84,103.29 C84,127.29 84,156.1 84,178.84 \" fill=\"none\" id=\"Client-Commande\" style=\"stroke:#181818;stroke-width:1.0;\"/><text fill=\"#000000\" font-family=\"sans-serif\" font-size=\"13\" lengthAdjust=\"spacing\" textLength=\"40\" x=\"85\" y=\"144.8228\">passe</text><text fill=\"#000000\" font-family=\"sans-serif\" font-size=\"13\" lengthAdjust=\"spacing\" textLength=\"8\" x=\"75.4875\" y=\"121.2704\">1</text><text fill=\"#000000\" font-family=\"sans-serif\" font-size=\"13\" lengthAdjust=\"spacing\" textLength=\"8\" x=\"75.2625\" y=\"167.0605\">*</text></g><!--SRC=[PKzB2i8m4Dtt54DMAhRGRHTkwaPm8OW72ErG1ff9J5CGn0Dv3Y_cM9fAssmcl7c_gLhTTL1QOpJN2Cy4VYy5xWrw2mMSE623FkAr3YZeKKO2hwGQv1Tlwvx2NrtP6jTQv-bnOmgQ_6mRRSxKC1vnNURUQmuKFk-vQfILBI77y1JGQ6g5U0sUk1b1jcO9EOzpL0odQBLJa1v0vLacltYVa2jhdFLo_2Pozt6zXInRtf2CvLGkVkbWEsKKuAG-VW40]--></g></svg>"
      ]
     },
     "metadata": {},
     "output_type": "display_data"
    }
   ],
   "source": [
    "//| output: true\n",
    "//| echo: false\n",
    "//| label: fig-uml-onetoone\n",
    "//| fig-cap: \"Un Customer a une Biography\"\n",
    "// PRINT SCHEMA\n",
    "String script=\"\"\"\n",
    "@startuml\n",
    "class Commande { \n",
    "     - numero : Integer\n",
    "     - date : Date \n",
    " }\n",
    "class Produit {\n",
    "     - code : Integer\n",
    "     - prixUnitaire : Integer\n",
    " }\n",
    "class LigneDeCommande { \n",
    "     - quantité : Integer \n",
    " }    \n",
    "\n",
    "class Client { \n",
    "    - email : String \n",
    "    - nom : String \n",
    "    - prenom : String \n",
    " }\n",
    "\n",
    "Commande \"*\" -> \"1..*\" Produit  : comporte\n",
    "(Commande, Produit) .. LigneDeCommande\n",
    "Client \"1\" -- \"*\" Commande : passe\n",
    "@enduml\"\"\";\n",
    "    \n",
    "\n",
    "IJava.getKernelInstance().getMagics().applyCellMagic(\"plantUML\",List.of(),script);  \n",
    "return null;"
   ]
  },
  {
   "cell_type": "markdown",
   "id": "de9aae4b-71b2-42f7-9c60-6a59eb591362",
   "metadata": {},
   "source": [
    "Vous veillerez :\n",
    "\n",
    "  * A ce que les visibilités soient correctes.\n",
    "  * A utiliser correctement si besoin l'héritage et les interfaces.\n",
    "  * A protéger les constructeurs par des factory ou des builder patterns.\n",
    "  * Mettez en places les méthodes nécessaire pour que l'égalité canonique et la comparaison soient correctes. \n",
    "\n",
    " \n",
    "Ecrivez une DAO minimale qui utilise la programmation fonctionnelle pour accéder et metter à jour les données. \n",
    "\n",
    "## Persistance avec JPA\n",
    "\n",
    "Mettez une API de gestion des données de l'application et des actions méteiers dans un package spécifique.\n",
    "La persistense sera gérée en utilisant le maximum de fonctionnalités de JPA.\n",
    "La base de données relationnelles sera celle de votre choix.\n",
    "\n",
    "## Rest/Websocket\n",
    "\n",
    "Mettez en place des ressources REST au dessus de votre API.\n",
    "\n",
    "## IHM\n",
    "\n",
    "Créer une IHM simple permettant au moins de consulter et de mettre à jour l'une des entités en utilisant l'API REST/Websocket.\n",
    "\n",
    "## Docker\n",
    "\n",
    "Préparer une livraison de votre application avec Docker (base de donnée, API et implantation hors IHM).\n",
    "La conteneurisation complète de votre chaine de compilation est un plus. "
   ]
  },
  {
   "cell_type": "code",
   "execution_count": 2,
   "id": "4aab6a56-60e5-4df8-b080-574444170b0f",
   "metadata": {},
   "outputs": [],
   "source": []
  },
  {
   "cell_type": "code",
   "execution_count": 3,
   "id": "9640231d-73b5-4eb7-9223-b2d799c0f969",
   "metadata": {},
   "outputs": [],
   "source": []
  },
  {
   "cell_type": "code",
   "execution_count": 4,
   "id": "6e598cb9-67e5-4057-a8f2-a66f1b8e644c",
   "metadata": {},
   "outputs": [],
   "source": []
  },
  {
   "cell_type": "code",
   "execution_count": 5,
   "id": "99ef56b1-c572-4e95-a72b-5d2aa6eabf99",
   "metadata": {},
   "outputs": [],
   "source": []
  }
 ],
 "metadata": {
  "kernelspec": {
   "display_name": "Java [conda env:root] *",
   "language": "java",
   "name": "conda-root-java"
  },
  "language_info": {
   "codemirror_mode": "java",
   "file_extension": ".jshell",
   "mimetype": "text/x-java-source",
   "name": "Java",
   "pygments_lexer": "java",
   "version": "21.0.2+13-LTS"
  }
 },
 "nbformat": 4,
 "nbformat_minor": 5
}
